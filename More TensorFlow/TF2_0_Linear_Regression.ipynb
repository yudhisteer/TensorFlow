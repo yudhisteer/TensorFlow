{
  "nbformat": 4,
  "nbformat_minor": 0,
  "metadata": {
    "colab": {
      "name": "TF2.0 Linear Regression.ipynb",
      "provenance": [],
      "collapsed_sections": []
    },
    "kernelspec": {
      "name": "python3",
      "display_name": "Python 3"
    }
  },
  "cells": [
    {
      "cell_type": "code",
      "metadata": {
        "id": "0qJR2zUf9OI_",
        "colab": {
          "base_uri": "https://localhost:8080/"
        },
        "outputId": "f46eb67d-8620-4f97-e5a8-8ac58505fd5c"
      },
      "source": [
        "# Install TensorFlow\n",
        "# !pip install -q tensorflow-gpu==2.0.0-beta1\n",
        "\n",
        "try:\n",
        "  %tensorflow_version 2.x  # Colab only.\n",
        "except Exception:\n",
        "  pass\n",
        "\n",
        "import tensorflow as tf\n",
        "print(tf.__version__)"
      ],
      "execution_count": null,
      "outputs": [
        {
          "output_type": "stream",
          "text": [
            "`%tensorflow_version` only switches the major version: 1.x or 2.x.\n",
            "You set: `2.x  # Colab only.`. This will be interpreted as: `2.x`.\n",
            "\n",
            "\n",
            "TensorFlow 2.x selected.\n",
            "2.4.1\n"
          ],
          "name": "stdout"
        }
      ]
    },
    {
      "cell_type": "code",
      "metadata": {
        "id": "4Xxa6cWIDsax"
      },
      "source": [
        "# Other imports\n",
        "import pandas as pd\n",
        "import numpy as np\n",
        "import matplotlib.pyplot as plt"
      ],
      "execution_count": null,
      "outputs": []
    },
    {
      "cell_type": "code",
      "metadata": {
        "id": "Mrrg06xiAhXN",
        "colab": {
          "base_uri": "https://localhost:8080/"
        },
        "outputId": "ff548d01-33d0-469b-f9b5-6fb8c35b836f"
      },
      "source": [
        "# Get the data\n",
        "!wget https://raw.githubusercontent.com/lazyprogrammer/machine_learning_examples/master/tf2.0/moore.csv"
      ],
      "execution_count": null,
      "outputs": [
        {
          "output_type": "stream",
          "text": [
            "--2021-03-15 18:57:31--  https://raw.githubusercontent.com/lazyprogrammer/machine_learning_examples/master/tf2.0/moore.csv\n",
            "Resolving raw.githubusercontent.com (raw.githubusercontent.com)... 185.199.108.133, 185.199.109.133, 185.199.110.133, ...\n",
            "Connecting to raw.githubusercontent.com (raw.githubusercontent.com)|185.199.108.133|:443... connected.\n",
            "HTTP request sent, awaiting response... 200 OK\n",
            "Length: 2302 (2.2K) [text/plain]\n",
            "Saving to: ‘moore.csv.5’\n",
            "\n",
            "\rmoore.csv.5           0%[                    ]       0  --.-KB/s               \rmoore.csv.5         100%[===================>]   2.25K  --.-KB/s    in 0s      \n",
            "\n",
            "2021-03-15 18:57:31 (52.9 MB/s) - ‘moore.csv.5’ saved [2302/2302]\n",
            "\n"
          ],
          "name": "stdout"
        }
      ]
    },
    {
      "cell_type": "code",
      "metadata": {
        "id": "313wFjffDnZp"
      },
      "source": [
        "# Load in the data\n",
        "data = pd.read_csv('moore.csv', header=None).values\n",
        "X = data[:,0].reshape(-1, 1) # make it a 2-D array of size N x D where D = 1\n",
        "Y = data[:,1]"
      ],
      "execution_count": null,
      "outputs": []
    },
    {
      "cell_type": "code",
      "metadata": {
        "colab": {
          "base_uri": "https://localhost:8080/"
        },
        "id": "qOPPu5q90vmP",
        "outputId": "41fae76b-81eb-4d49-f6e8-af39b8c4c4fb"
      },
      "source": [
        "data.shape"
      ],
      "execution_count": null,
      "outputs": [
        {
          "output_type": "execute_result",
          "data": {
            "text/plain": [
              "(162, 2)"
            ]
          },
          "metadata": {
            "tags": []
          },
          "execution_count": 5
        }
      ]
    },
    {
      "cell_type": "code",
      "metadata": {
        "colab": {
          "base_uri": "https://localhost:8080/"
        },
        "id": "qa6TxfddyzpK",
        "outputId": "6be5e746-0be8-4cd4-daed-74ecbb194473"
      },
      "source": [
        "data[:5] # first 5 rows of data"
      ],
      "execution_count": null,
      "outputs": [
        {
          "output_type": "execute_result",
          "data": {
            "text/plain": [
              "array([[1971, 2300],\n",
              "       [1972, 3500],\n",
              "       [1973, 2500],\n",
              "       [1973, 2500],\n",
              "       [1974, 4100]])"
            ]
          },
          "metadata": {
            "tags": []
          },
          "execution_count": 6
        }
      ]
    },
    {
      "cell_type": "code",
      "metadata": {
        "colab": {
          "base_uri": "https://localhost:8080/"
        },
        "id": "zkhRpexr0dVv",
        "outputId": "6c80bb85-1a74-4a23-de89-e5b82ab9051c"
      },
      "source": [
        "Y = data[:,1] #we are taking all the rows but only for the second column\n",
        "Y[:5]\n",
        "Y"
      ],
      "execution_count": null,
      "outputs": [
        {
          "output_type": "execute_result",
          "data": {
            "text/plain": [
              "array([       2300,        3500,        2500,        2500,        4100,\n",
              "              4500,        8000,        3510,        5000,        8500,\n",
              "              6500,        9000,       29000,       17500,       29000,\n",
              "             68000,       11500,       55000,      134000,       22000,\n",
              "             63000,      190000,      275000,       25000,       16000,\n",
              "            110000,      375000,       30000,      385000,      730000,\n",
              "            273000,      553000,      180000,      250000,      600000,\n",
              "           1000000,     1180235,      310000,     1200000,     1350000,\n",
              "             35000,      600000,      900000,     2800000,     3100000,\n",
              "            578977,     2500000,     2500000,      111000,     5500000,\n",
              "           4300000,    10000000,     7500000,     8800000,     7500000,\n",
              "           9500000,    13500000,    21000000,    21000000,    27400000,\n",
              "          21300000,    22000000,    42000000,   191000000,    45000000,\n",
              "          55000000,   112000000,   400000000,   169000000,   184000000,\n",
              "         228000000,   362000000,   540000000,    47000000,    54300000,\n",
              "         105900000,   220000000,   165000000,   250000000,   291000000,\n",
              "         169000000,   410000000,   600000000,   760000000,  1870000000,\n",
              "         432000000,   463000000,    26000000,   230000000,   592000000,\n",
              "         411000000,   731000000,   758000000,   789000000,   904000000,\n",
              "        1000000000,  2990000000,  1000000000,  1160000000,  1170000000,\n",
              "        1200000000,  1200000000,  1303000000,  1400000000,  1400000000,\n",
              "        1400000000,  1700000000,  1750000000,  1860000000,  1900000000,\n",
              "        1900000000,  2000000000,  2000000000,  2000000000,  3000000000,\n",
              "        2100000000,  2270000000,  2300000000,  2600000000,  2600000000,\n",
              "        2750000000,  3000000000,  3000000000,  5300000000,  5300000000,\n",
              "        8500000000,  3100000000,  3200000000,  3300000000,  3990000000,\n",
              "        4200000000,  4300000000,  4310000000,  4800000000,  4800000000,\n",
              "        4800000000,  5000000000,  5000000000,  5560000000,  6100000000,\n",
              "        6900000000,  4000000000,  6900000000,  5500000000,  5500000000,\n",
              "        7000000000,  7100000000,  8000000000,  7200000000,  8000000000,\n",
              "        8000000000,  9700000000,   250000000, 10000000000,  5450000000,\n",
              "       10000000000,  4300000000, 18000000000, 19200000000,  8876000000,\n",
              "       23600000000,  9000000000])"
            ]
          },
          "metadata": {
            "tags": []
          },
          "execution_count": 7
        }
      ]
    },
    {
      "cell_type": "code",
      "metadata": {
        "colab": {
          "base_uri": "https://localhost:8080/"
        },
        "id": "4BCXZYQ30zQH",
        "outputId": "625d8b15-2b88-4bd6-f602-9daa08b9d4d4"
      },
      "source": [
        "Y.shape"
      ],
      "execution_count": null,
      "outputs": [
        {
          "output_type": "execute_result",
          "data": {
            "text/plain": [
              "(162,)"
            ]
          },
          "metadata": {
            "tags": []
          },
          "execution_count": 8
        }
      ]
    },
    {
      "cell_type": "code",
      "metadata": {
        "colab": {
          "base_uri": "https://localhost:8080/"
        },
        "id": "El7hI9HM4x4t",
        "outputId": "dcf65d80-a615-4a66-dfe9-a254d33dc0e7"
      },
      "source": [
        "n = np.array([[1], ## 3 rows, with 1 element each\n",
        "       [2],\n",
        "       [3]])\n",
        "\n",
        "n.shape"
      ],
      "execution_count": null,
      "outputs": [
        {
          "output_type": "execute_result",
          "data": {
            "text/plain": [
              "(3, 1)"
            ]
          },
          "metadata": {
            "tags": []
          },
          "execution_count": 9
        }
      ]
    },
    {
      "cell_type": "code",
      "metadata": {
        "colab": {
          "base_uri": "https://localhost:8080/"
        },
        "id": "spL6tc5v5Xrf",
        "outputId": "464c341a-848c-4365-cd09-b7384208f6ad"
      },
      "source": [
        "n.ndim"
      ],
      "execution_count": null,
      "outputs": [
        {
          "output_type": "execute_result",
          "data": {
            "text/plain": [
              "2"
            ]
          },
          "metadata": {
            "tags": []
          },
          "execution_count": 10
        }
      ]
    },
    {
      "cell_type": "code",
      "metadata": {
        "colab": {
          "base_uri": "https://localhost:8080/"
        },
        "id": "egMTm4C-44t9",
        "outputId": "056dcbd1-d5b7-49e7-d93b-dd7a7acb0875"
      },
      "source": [
        " a = np.array([1, 2, 3])## one row with 3 elements\n",
        " a.T"
      ],
      "execution_count": null,
      "outputs": [
        {
          "output_type": "execute_result",
          "data": {
            "text/plain": [
              "array([1, 2, 3])"
            ]
          },
          "metadata": {
            "tags": []
          },
          "execution_count": 11
        }
      ]
    },
    {
      "cell_type": "code",
      "metadata": {
        "colab": {
          "base_uri": "https://localhost:8080/"
        },
        "id": "q5tHFL8j5aGv",
        "outputId": "1d1b82e1-5e76-4d23-aa28-efbc3b682d76"
      },
      "source": [
        "a.ndim"
      ],
      "execution_count": null,
      "outputs": [
        {
          "output_type": "execute_result",
          "data": {
            "text/plain": [
              "1"
            ]
          },
          "metadata": {
            "tags": []
          },
          "execution_count": 12
        }
      ]
    },
    {
      "cell_type": "code",
      "metadata": {
        "colab": {
          "base_uri": "https://localhost:8080/"
        },
        "id": "HLpwpp0CzfWp",
        "outputId": "2f5d09f6-f292-4f86-87e8-ba1fbc828277"
      },
      "source": [
        "X = data[:,0] # [ first_row:last_row , column_0 ] #we are taking all the rows and only the first column.\n",
        "X"
      ],
      "execution_count": null,
      "outputs": [
        {
          "output_type": "execute_result",
          "data": {
            "text/plain": [
              "array([1971, 1972, 1973, 1973, 1974, 1974, 1974, 1975, 1976, 1976, 1976,\n",
              "       1978, 1978, 1979, 1979, 1979, 1981, 1982, 1982, 1983, 1984, 1984,\n",
              "       1985, 1985, 1985, 1986, 1986, 1986, 1987, 1987, 1987, 1987, 1988,\n",
              "       1988, 1989, 1989, 1989, 1989, 1990, 1991, 1991, 1992, 1992, 1993,\n",
              "       1993, 1994, 1994, 1995, 1999, 1995, 1996, 1997, 1997, 1997, 1998,\n",
              "       1999, 1999, 2000, 2000, 1999, 1999, 1999, 2000, 2001, 2001, 2002,\n",
              "       2004, 2004, 2005, 2006, 2005, 2006, 2007, 2008, 2003, 2003, 2002,\n",
              "       2005, 2005, 2006, 2007, 2003, 2008, 2009, 2011, 2012, 2007, 2007,\n",
              "       2008, 2004, 2007, 2008, 2008, 2007, 2009, 2010, 2012, 2013, 2011,\n",
              "       2010, 2010, 2012, 2012, 2010, 2012, 2014, 2006, 2015, 2013, 2015,\n",
              "       2008, 2010, 2014, 2015, 2015, 2012, 2011, 2010, 2014, 2011, 2012,\n",
              "       2014, 2016, 2017, 2017, 2018, 2012, 2016, 2016, 2015, 2013, 2017,\n",
              "       2014, 2017, 2017, 2017, 2012, 2013, 2014, 2017, 2018, 2016, 2018,\n",
              "       2017, 2018, 2017, 2015, 2017, 2016, 2017, 2016, 2017, 2017, 2015,\n",
              "       2017, 2018, 2017, 2017, 2017, 2018, 2018, 2018])"
            ]
          },
          "metadata": {
            "tags": []
          },
          "execution_count": 13
        }
      ]
    },
    {
      "cell_type": "code",
      "metadata": {
        "colab": {
          "base_uri": "https://localhost:8080/"
        },
        "id": "UDlEv0we4HJZ",
        "outputId": "940bbe32-a7cc-49e4-8de7-86b29432ca05"
      },
      "source": [
        "X.shape #1D"
      ],
      "execution_count": null,
      "outputs": [
        {
          "output_type": "execute_result",
          "data": {
            "text/plain": [
              "(162,)"
            ]
          },
          "metadata": {
            "tags": []
          },
          "execution_count": 14
        }
      ]
    },
    {
      "cell_type": "code",
      "metadata": {
        "colab": {
          "base_uri": "https://localhost:8080/"
        },
        "id": "ST1mDRPqzkv3",
        "outputId": "7d7a938f-379e-43a2-e91e-ce9e157c2ca5"
      },
      "source": [
        "print(X.shape)\n",
        "X = data[:,0].reshape(-1, 1) # using -1 in reshape means row number is unknown but we know to have 1 column\n",
        "X[:5]\n",
        "print(X.flatten().shape)\n",
        "print(data[:,0].reshape(-1, 1).shape)"
      ],
      "execution_count": null,
      "outputs": [
        {
          "output_type": "stream",
          "text": [
            "(162,)\n",
            "(162,)\n",
            "(162, 1)\n"
          ],
          "name": "stdout"
        }
      ]
    },
    {
      "cell_type": "code",
      "metadata": {
        "colab": {
          "base_uri": "https://localhost:8080/"
        },
        "id": "q-goc-5yHorL",
        "outputId": "f46c4d96-04f5-42e4-a8e3-ef9d9eb5cc27"
      },
      "source": [
        "X = data[:,0].reshape(-1, 1)\n",
        "X.shape"
      ],
      "execution_count": null,
      "outputs": [
        {
          "output_type": "execute_result",
          "data": {
            "text/plain": [
              "(162, 1)"
            ]
          },
          "metadata": {
            "tags": []
          },
          "execution_count": 16
        }
      ]
    },
    {
      "cell_type": "code",
      "metadata": {
        "id": "Qea_ckSTEstM",
        "colab": {
          "base_uri": "https://localhost:8080/",
          "height": 293
        },
        "outputId": "c4faa0a8-061d-4d98-8782-c4694c795c55"
      },
      "source": [
        "# Plot the data - it is exponential!\n",
        "plt.scatter(X, Y)"
      ],
      "execution_count": null,
      "outputs": [
        {
          "output_type": "execute_result",
          "data": {
            "text/plain": [
              "<matplotlib.collections.PathCollection at 0x7f5cda2f3910>"
            ]
          },
          "metadata": {
            "tags": []
          },
          "execution_count": 17
        },
        {
          "output_type": "display_data",
          "data": {
            "image/png": "[encoded data removed]",
            "text/plain": [
              "<Figure size 432x288 with 1 Axes>"
            ]
          },
          "metadata": {
            "tags": [],
            "needs_background": "light"
          }
        }
      ]
    },
    {
      "cell_type": "code",
      "metadata": {
        "colab": {
          "base_uri": "https://localhost:8080/"
        },
        "id": "F5BWzMcuPvPR",
        "outputId": "7c2cc596-677c-4ef4-9887-d6b85a6f7c25"
      },
      "source": [
        "Y"
      ],
      "execution_count": null,
      "outputs": [
        {
          "output_type": "execute_result",
          "data": {
            "text/plain": [
              "array([       2300,        3500,        2500,        2500,        4100,\n",
              "              4500,        8000,        3510,        5000,        8500,\n",
              "              6500,        9000,       29000,       17500,       29000,\n",
              "             68000,       11500,       55000,      134000,       22000,\n",
              "             63000,      190000,      275000,       25000,       16000,\n",
              "            110000,      375000,       30000,      385000,      730000,\n",
              "            273000,      553000,      180000,      250000,      600000,\n",
              "           1000000,     1180235,      310000,     1200000,     1350000,\n",
              "             35000,      600000,      900000,     2800000,     3100000,\n",
              "            578977,     2500000,     2500000,      111000,     5500000,\n",
              "           4300000,    10000000,     7500000,     8800000,     7500000,\n",
              "           9500000,    13500000,    21000000,    21000000,    27400000,\n",
              "          21300000,    22000000,    42000000,   191000000,    45000000,\n",
              "          55000000,   112000000,   400000000,   169000000,   184000000,\n",
              "         228000000,   362000000,   540000000,    47000000,    54300000,\n",
              "         105900000,   220000000,   165000000,   250000000,   291000000,\n",
              "         169000000,   410000000,   600000000,   760000000,  1870000000,\n",
              "         432000000,   463000000,    26000000,   230000000,   592000000,\n",
              "         411000000,   731000000,   758000000,   789000000,   904000000,\n",
              "        1000000000,  2990000000,  1000000000,  1160000000,  1170000000,\n",
              "        1200000000,  1200000000,  1303000000,  1400000000,  1400000000,\n",
              "        1400000000,  1700000000,  1750000000,  1860000000,  1900000000,\n",
              "        1900000000,  2000000000,  2000000000,  2000000000,  3000000000,\n",
              "        2100000000,  2270000000,  2300000000,  2600000000,  2600000000,\n",
              "        2750000000,  3000000000,  3000000000,  5300000000,  5300000000,\n",
              "        8500000000,  3100000000,  3200000000,  3300000000,  3990000000,\n",
              "        4200000000,  4300000000,  4310000000,  4800000000,  4800000000,\n",
              "        4800000000,  5000000000,  5000000000,  5560000000,  6100000000,\n",
              "        6900000000,  4000000000,  6900000000,  5500000000,  5500000000,\n",
              "        7000000000,  7100000000,  8000000000,  7200000000,  8000000000,\n",
              "        8000000000,  9700000000,   250000000, 10000000000,  5450000000,\n",
              "       10000000000,  4300000000, 18000000000, 19200000000,  8876000000,\n",
              "       23600000000,  9000000000])"
            ]
          },
          "metadata": {
            "tags": []
          },
          "execution_count": 18
        }
      ]
    },
    {
      "cell_type": "code",
      "metadata": {
        "colab": {
          "base_uri": "https://localhost:8080/"
        },
        "id": "WV7DRus8P6Bi",
        "outputId": "9592d22c-cb46-4bcb-d378-ec02638f16d1"
      },
      "source": [
        "X"
      ],
      "execution_count": null,
      "outputs": [
        {
          "output_type": "execute_result",
          "data": {
            "text/plain": [
              "array([[1971],\n",
              "       [1972],\n",
              "       [1973],\n",
              "       [1973],\n",
              "       [1974],\n",
              "       [1974],\n",
              "       [1974],\n",
              "       [1975],\n",
              "       [1976],\n",
              "       [1976],\n",
              "       [1976],\n",
              "       [1978],\n",
              "       [1978],\n",
              "       [1979],\n",
              "       [1979],\n",
              "       [1979],\n",
              "       [1981],\n",
              "       [1982],\n",
              "       [1982],\n",
              "       [1983],\n",
              "       [1984],\n",
              "       [1984],\n",
              "       [1985],\n",
              "       [1985],\n",
              "       [1985],\n",
              "       [1986],\n",
              "       [1986],\n",
              "       [1986],\n",
              "       [1987],\n",
              "       [1987],\n",
              "       [1987],\n",
              "       [1987],\n",
              "       [1988],\n",
              "       [1988],\n",
              "       [1989],\n",
              "       [1989],\n",
              "       [1989],\n",
              "       [1989],\n",
              "       [1990],\n",
              "       [1991],\n",
              "       [1991],\n",
              "       [1992],\n",
              "       [1992],\n",
              "       [1993],\n",
              "       [1993],\n",
              "       [1994],\n",
              "       [1994],\n",
              "       [1995],\n",
              "       [1999],\n",
              "       [1995],\n",
              "       [1996],\n",
              "       [1997],\n",
              "       [1997],\n",
              "       [1997],\n",
              "       [1998],\n",
              "       [1999],\n",
              "       [1999],\n",
              "       [2000],\n",
              "       [2000],\n",
              "       [1999],\n",
              "       [1999],\n",
              "       [1999],\n",
              "       [2000],\n",
              "       [2001],\n",
              "       [2001],\n",
              "       [2002],\n",
              "       [2004],\n",
              "       [2004],\n",
              "       [2005],\n",
              "       [2006],\n",
              "       [2005],\n",
              "       [2006],\n",
              "       [2007],\n",
              "       [2008],\n",
              "       [2003],\n",
              "       [2003],\n",
              "       [2002],\n",
              "       [2005],\n",
              "       [2005],\n",
              "       [2006],\n",
              "       [2007],\n",
              "       [2003],\n",
              "       [2008],\n",
              "       [2009],\n",
              "       [2011],\n",
              "       [2012],\n",
              "       [2007],\n",
              "       [2007],\n",
              "       [2008],\n",
              "       [2004],\n",
              "       [2007],\n",
              "       [2008],\n",
              "       [2008],\n",
              "       [2007],\n",
              "       [2009],\n",
              "       [2010],\n",
              "       [2012],\n",
              "       [2013],\n",
              "       [2011],\n",
              "       [2010],\n",
              "       [2010],\n",
              "       [2012],\n",
              "       [2012],\n",
              "       [2010],\n",
              "       [2012],\n",
              "       [2014],\n",
              "       [2006],\n",
              "       [2015],\n",
              "       [2013],\n",
              "       [2015],\n",
              "       [2008],\n",
              "       [2010],\n",
              "       [2014],\n",
              "       [2015],\n",
              "       [2015],\n",
              "       [2012],\n",
              "       [2011],\n",
              "       [2010],\n",
              "       [2014],\n",
              "       [2011],\n",
              "       [2012],\n",
              "       [2014],\n",
              "       [2016],\n",
              "       [2017],\n",
              "       [2017],\n",
              "       [2018],\n",
              "       [2012],\n",
              "       [2016],\n",
              "       [2016],\n",
              "       [2015],\n",
              "       [2013],\n",
              "       [2017],\n",
              "       [2014],\n",
              "       [2017],\n",
              "       [2017],\n",
              "       [2017],\n",
              "       [2012],\n",
              "       [2013],\n",
              "       [2014],\n",
              "       [2017],\n",
              "       [2018],\n",
              "       [2016],\n",
              "       [2018],\n",
              "       [2017],\n",
              "       [2018],\n",
              "       [2017],\n",
              "       [2015],\n",
              "       [2017],\n",
              "       [2016],\n",
              "       [2017],\n",
              "       [2016],\n",
              "       [2017],\n",
              "       [2017],\n",
              "       [2015],\n",
              "       [2017],\n",
              "       [2018],\n",
              "       [2017],\n",
              "       [2017],\n",
              "       [2017],\n",
              "       [2018],\n",
              "       [2018],\n",
              "       [2018]])"
            ]
          },
          "metadata": {
            "tags": []
          },
          "execution_count": 19
        }
      ]
    },
    {
      "cell_type": "code",
      "metadata": {
        "id": "Mi_fFmqyE4Tx",
        "colab": {
          "base_uri": "https://localhost:8080/",
          "height": 283
        },
        "outputId": "cc6ea458-61c8-4be4-926d-ef090cef409f"
      },
      "source": [
        "# Since we want a linear model, let's take the log\n",
        "Y = np.log(Y)\n",
        "plt.scatter(X, Y)\n",
        "# that's better"
      ],
      "execution_count": null,
      "outputs": [
        {
          "output_type": "execute_result",
          "data": {
            "text/plain": [
              "<matplotlib.collections.PathCollection at 0x7f5cd9ddc450>"
            ]
          },
          "metadata": {
            "tags": []
          },
          "execution_count": 20
        },
        {
          "output_type": "display_data",
          "data": {
            "image/png": "[encoded data removed]",
            "text/plain": [
              "<Figure size 432x288 with 1 Axes>"
            ]
          },
          "metadata": {
            "tags": [],
            "needs_background": "light"
          }
        }
      ]
    },
    {
      "cell_type": "code",
      "metadata": {
        "id": "H7Dh7kAhFY9r",
        "colab": {
          "base_uri": "https://localhost:8080/"
        },
        "outputId": "92503dbe-0bef-47c7-a9fb-bad9b3e249c0"
      },
      "source": [
        "# Let's also center the X data so the values are not too large\n",
        "# We could scale it too but then we'd have to reverse the transformation later\n",
        "X = X - X.mean()\n",
        "print(X[:5])"
      ],
      "execution_count": null,
      "outputs": [
        {
          "output_type": "stream",
          "text": [
            "[[-31.19753086]\n",
            " [-30.19753086]\n",
            " [-29.19753086]\n",
            " [-29.19753086]\n",
            " [-28.19753086]]\n"
          ],
          "name": "stdout"
        }
      ]
    },
    {
      "cell_type": "code",
      "metadata": {
        "id": "DJgpK0wZD77X",
        "colab": {
          "base_uri": "https://localhost:8080/"
        },
        "outputId": "5b4bff97-6a72-4e42-dc2c-fafc0f42713d"
      },
      "source": [
        "# Now create our Tensorflow model\n",
        "model = tf.keras.models.Sequential([\n",
        "  tf.keras.layers.Input(shape=(1,)),\n",
        "  tf.keras.layers.Dense(1)\n",
        "])\n",
        "\n",
        "model.compile(optimizer=tf.keras.optimizers.SGD(0.001, 0.9), loss='mse')\n",
        "# model.compile(optimizer='adam', loss='mse')\n",
        "\n",
        "\n",
        "# learning rate scheduler\n",
        "def schedule(epoch, lr):\n",
        "  if epoch >= 50:\n",
        "    return 0.0001\n",
        "  return 0.001\n",
        " \n",
        "\n",
        "scheduler = tf.keras.callbacks.LearningRateScheduler(schedule)\n",
        "\n",
        "\n",
        "# Train the model\n",
        "r = model.fit(X, Y, epochs=200, callbacks=[scheduler])"
      ],
      "execution_count": null,
      "outputs": [
        {
          "output_type": "stream",
          "text": [
            "Epoch 1/200\n",
            "6/6 [==============================] - 0s 1ms/step - loss: 323.2035\n",
            "Epoch 2/200\n",
            "6/6 [==============================] - 0s 1ms/step - loss: 471.8784\n",
            "Epoch 3/200\n",
            "6/6 [==============================] - 0s 2ms/step - loss: 645.3149\n",
            "Epoch 4/200\n",
            "6/6 [==============================] - 0s 2ms/step - loss: 329.5982\n",
            "Epoch 5/200\n",
            "6/6 [==============================] - 0s 2ms/step - loss: 257.1768\n",
            "Epoch 6/200\n",
            "6/6 [==============================] - 0s 2ms/step - loss: 135.4721\n",
            "Epoch 7/200\n",
            "6/6 [==============================] - 0s 2ms/step - loss: 143.7248\n",
            "Epoch 8/200\n",
            "6/6 [==============================] - 0s 2ms/step - loss: 102.9858\n",
            "Epoch 9/200\n",
            "6/6 [==============================] - 0s 1ms/step - loss: 84.8599\n",
            "Epoch 10/200\n",
            "6/6 [==============================] - 0s 2ms/step - loss: 56.5600\n",
            "Epoch 11/200\n",
            "6/6 [==============================] - 0s 2ms/step - loss: 37.2052\n",
            "Epoch 12/200\n",
            "6/6 [==============================] - 0s 2ms/step - loss: 29.5344\n",
            "Epoch 13/200\n",
            "6/6 [==============================] - 0s 1ms/step - loss: 17.7320\n",
            "Epoch 14/200\n",
            "6/6 [==============================] - 0s 2ms/step - loss: 24.5678\n",
            "Epoch 15/200\n",
            "6/6 [==============================] - 0s 2ms/step - loss: 21.4693\n",
            "Epoch 16/200\n",
            "6/6 [==============================] - 0s 1ms/step - loss: 21.1283\n",
            "Epoch 17/200\n",
            "6/6 [==============================] - 0s 1ms/step - loss: 11.9086\n",
            "Epoch 18/200\n",
            "6/6 [==============================] - 0s 2ms/step - loss: 10.1743\n",
            "Epoch 19/200\n",
            "6/6 [==============================] - 0s 2ms/step - loss: 4.1222\n",
            "Epoch 20/200\n",
            "6/6 [==============================] - 0s 2ms/step - loss: 3.1824\n",
            "Epoch 21/200\n",
            "6/6 [==============================] - 0s 2ms/step - loss: 2.2797\n",
            "Epoch 22/200\n",
            "6/6 [==============================] - 0s 2ms/step - loss: 1.7317\n",
            "Epoch 23/200\n",
            "6/6 [==============================] - 0s 2ms/step - loss: 2.3660\n",
            "Epoch 24/200\n",
            "6/6 [==============================] - 0s 3ms/step - loss: 2.7844\n",
            "Epoch 25/200\n",
            "6/6 [==============================] - 0s 2ms/step - loss: 3.5727\n",
            "Epoch 26/200\n",
            "6/6 [==============================] - 0s 2ms/step - loss: 3.6952\n",
            "Epoch 27/200\n",
            "6/6 [==============================] - 0s 2ms/step - loss: 2.9668\n",
            "Epoch 28/200\n",
            "6/6 [==============================] - 0s 2ms/step - loss: 1.9400\n",
            "Epoch 29/200\n",
            "6/6 [==============================] - 0s 2ms/step - loss: 1.0464\n",
            "Epoch 30/200\n",
            "6/6 [==============================] - 0s 2ms/step - loss: 0.9674\n",
            "Epoch 31/200\n",
            "6/6 [==============================] - 0s 2ms/step - loss: 1.0112\n",
            "Epoch 32/200\n",
            "6/6 [==============================] - 0s 2ms/step - loss: 0.8761\n",
            "Epoch 33/200\n",
            "6/6 [==============================] - 0s 2ms/step - loss: 0.8684\n",
            "Epoch 34/200\n",
            "6/6 [==============================] - 0s 3ms/step - loss: 0.8615\n",
            "Epoch 35/200\n",
            "6/6 [==============================] - 0s 2ms/step - loss: 1.2012\n",
            "Epoch 36/200\n",
            "6/6 [==============================] - 0s 2ms/step - loss: 1.0591\n",
            "Epoch 37/200\n",
            "6/6 [==============================] - 0s 2ms/step - loss: 1.2525\n",
            "Epoch 38/200\n",
            "6/6 [==============================] - 0s 2ms/step - loss: 1.2838\n",
            "Epoch 39/200\n",
            "6/6 [==============================] - 0s 2ms/step - loss: 1.5148\n",
            "Epoch 40/200\n",
            "6/6 [==============================] - 0s 2ms/step - loss: 1.3795\n",
            "Epoch 41/200\n",
            "6/6 [==============================] - 0s 2ms/step - loss: 1.2230\n",
            "Epoch 42/200\n",
            "6/6 [==============================] - 0s 2ms/step - loss: 1.4892\n",
            "Epoch 43/200\n",
            "6/6 [==============================] - 0s 1ms/step - loss: 1.5207\n",
            "Epoch 44/200\n",
            "6/6 [==============================] - 0s 2ms/step - loss: 1.1477\n",
            "Epoch 45/200\n",
            "6/6 [==============================] - 0s 2ms/step - loss: 1.0462\n",
            "Epoch 46/200\n",
            "6/6 [==============================] - 0s 2ms/step - loss: 1.4558\n",
            "Epoch 47/200\n",
            "6/6 [==============================] - 0s 2ms/step - loss: 1.7584\n",
            "Epoch 48/200\n",
            "6/6 [==============================] - 0s 2ms/step - loss: 1.5677\n",
            "Epoch 49/200\n",
            "6/6 [==============================] - 0s 1ms/step - loss: 1.1148\n",
            "Epoch 50/200\n",
            "6/6 [==============================] - 0s 2ms/step - loss: 1.6518\n",
            "Epoch 51/200\n",
            "6/6 [==============================] - 0s 3ms/step - loss: 2.9192\n",
            "Epoch 52/200\n",
            "6/6 [==============================] - 0s 2ms/step - loss: 4.8540\n",
            "Epoch 53/200\n",
            "6/6 [==============================] - 0s 2ms/step - loss: 1.3987\n",
            "Epoch 54/200\n",
            "6/6 [==============================] - 0s 2ms/step - loss: 1.6383\n",
            "Epoch 55/200\n",
            "6/6 [==============================] - 0s 2ms/step - loss: 1.3676\n",
            "Epoch 56/200\n",
            "6/6 [==============================] - 0s 3ms/step - loss: 0.8223\n",
            "Epoch 57/200\n",
            "6/6 [==============================] - 0s 2ms/step - loss: 0.8277\n",
            "Epoch 58/200\n",
            "6/6 [==============================] - 0s 2ms/step - loss: 0.8205\n",
            "Epoch 59/200\n",
            "6/6 [==============================] - 0s 2ms/step - loss: 1.0664\n",
            "Epoch 60/200\n",
            "6/6 [==============================] - 0s 2ms/step - loss: 0.7975\n",
            "Epoch 61/200\n",
            "6/6 [==============================] - 0s 4ms/step - loss: 0.8091\n",
            "Epoch 62/200\n",
            "6/6 [==============================] - 0s 3ms/step - loss: 0.9967\n",
            "Epoch 63/200\n",
            "6/6 [==============================] - 0s 2ms/step - loss: 0.8367\n",
            "Epoch 64/200\n",
            "6/6 [==============================] - 0s 2ms/step - loss: 0.8293\n",
            "Epoch 65/200\n",
            "6/6 [==============================] - 0s 2ms/step - loss: 1.0247\n",
            "Epoch 66/200\n",
            "6/6 [==============================] - 0s 2ms/step - loss: 0.7789\n",
            "Epoch 67/200\n",
            "6/6 [==============================] - 0s 2ms/step - loss: 0.7813\n",
            "Epoch 68/200\n",
            "6/6 [==============================] - 0s 4ms/step - loss: 0.7852\n",
            "Epoch 69/200\n",
            "6/6 [==============================] - 0s 2ms/step - loss: 0.9747\n",
            "Epoch 70/200\n",
            "6/6 [==============================] - 0s 2ms/step - loss: 0.7421\n",
            "Epoch 71/200\n",
            "6/6 [==============================] - 0s 2ms/step - loss: 1.0447\n",
            "Epoch 72/200\n",
            "6/6 [==============================] - 0s 2ms/step - loss: 0.9153\n",
            "Epoch 73/200\n",
            "6/6 [==============================] - 0s 2ms/step - loss: 0.8807\n",
            "Epoch 74/200\n",
            "6/6 [==============================] - 0s 3ms/step - loss: 0.7484\n",
            "Epoch 75/200\n",
            "6/6 [==============================] - 0s 2ms/step - loss: 0.7994\n",
            "Epoch 76/200\n",
            "6/6 [==============================] - 0s 2ms/step - loss: 0.7630\n",
            "Epoch 77/200\n",
            "6/6 [==============================] - 0s 2ms/step - loss: 0.8066\n",
            "Epoch 78/200\n",
            "6/6 [==============================] - 0s 3ms/step - loss: 0.8986\n",
            "Epoch 79/200\n",
            "6/6 [==============================] - 0s 2ms/step - loss: 0.8353\n",
            "Epoch 80/200\n",
            "6/6 [==============================] - 0s 2ms/step - loss: 0.7663\n",
            "Epoch 81/200\n",
            "6/6 [==============================] - 0s 2ms/step - loss: 0.7546\n",
            "Epoch 82/200\n",
            "6/6 [==============================] - 0s 2ms/step - loss: 0.7617\n",
            "Epoch 83/200\n",
            "6/6 [==============================] - 0s 2ms/step - loss: 0.7889\n",
            "Epoch 84/200\n",
            "6/6 [==============================] - 0s 2ms/step - loss: 0.7708\n",
            "Epoch 85/200\n",
            "6/6 [==============================] - 0s 2ms/step - loss: 0.7122\n",
            "Epoch 86/200\n",
            "6/6 [==============================] - 0s 2ms/step - loss: 0.9524\n",
            "Epoch 87/200\n",
            "6/6 [==============================] - 0s 2ms/step - loss: 0.9960\n",
            "Epoch 88/200\n",
            "6/6 [==============================] - 0s 2ms/step - loss: 0.8791\n",
            "Epoch 89/200\n",
            "6/6 [==============================] - 0s 3ms/step - loss: 0.7706\n",
            "Epoch 90/200\n",
            "6/6 [==============================] - 0s 2ms/step - loss: 0.9003\n",
            "Epoch 91/200\n",
            "6/6 [==============================] - 0s 2ms/step - loss: 0.7565\n",
            "Epoch 92/200\n",
            "6/6 [==============================] - 0s 2ms/step - loss: 0.8292\n",
            "Epoch 93/200\n",
            "6/6 [==============================] - 0s 3ms/step - loss: 1.0577\n",
            "Epoch 94/200\n",
            "6/6 [==============================] - 0s 1ms/step - loss: 1.0931\n",
            "Epoch 95/200\n",
            "6/6 [==============================] - 0s 2ms/step - loss: 0.7856\n",
            "Epoch 96/200\n",
            "6/6 [==============================] - 0s 4ms/step - loss: 0.9823\n",
            "Epoch 97/200\n",
            "6/6 [==============================] - 0s 2ms/step - loss: 1.0004\n",
            "Epoch 98/200\n",
            "6/6 [==============================] - 0s 2ms/step - loss: 0.8037\n",
            "Epoch 99/200\n",
            "6/6 [==============================] - 0s 2ms/step - loss: 0.9543\n",
            "Epoch 100/200\n",
            "6/6 [==============================] - 0s 2ms/step - loss: 0.9060\n",
            "Epoch 101/200\n",
            "6/6 [==============================] - 0s 2ms/step - loss: 0.8128\n",
            "Epoch 102/200\n",
            "6/6 [==============================] - 0s 2ms/step - loss: 1.0048\n",
            "Epoch 103/200\n",
            "6/6 [==============================] - 0s 3ms/step - loss: 0.8148\n",
            "Epoch 104/200\n",
            "6/6 [==============================] - 0s 2ms/step - loss: 0.8643\n",
            "Epoch 105/200\n",
            "6/6 [==============================] - 0s 2ms/step - loss: 1.0496\n",
            "Epoch 106/200\n",
            "6/6 [==============================] - 0s 3ms/step - loss: 0.7617\n",
            "Epoch 107/200\n",
            "6/6 [==============================] - 0s 3ms/step - loss: 0.8600\n",
            "Epoch 108/200\n",
            "6/6 [==============================] - 0s 2ms/step - loss: 0.9896\n",
            "Epoch 109/200\n",
            "6/6 [==============================] - 0s 2ms/step - loss: 0.9631\n",
            "Epoch 110/200\n",
            "6/6 [==============================] - 0s 2ms/step - loss: 0.7193\n",
            "Epoch 111/200\n",
            "6/6 [==============================] - 0s 2ms/step - loss: 0.7174\n",
            "Epoch 112/200\n",
            "6/6 [==============================] - 0s 2ms/step - loss: 0.9877\n",
            "Epoch 113/200\n",
            "6/6 [==============================] - 0s 2ms/step - loss: 1.1464\n",
            "Epoch 114/200\n",
            "6/6 [==============================] - 0s 2ms/step - loss: 0.8685\n",
            "Epoch 115/200\n",
            "6/6 [==============================] - 0s 2ms/step - loss: 0.8882\n",
            "Epoch 116/200\n",
            "6/6 [==============================] - 0s 2ms/step - loss: 0.9534\n",
            "Epoch 117/200\n",
            "6/6 [==============================] - 0s 2ms/step - loss: 0.8260\n",
            "Epoch 118/200\n",
            "6/6 [==============================] - 0s 2ms/step - loss: 0.7588\n",
            "Epoch 119/200\n",
            "6/6 [==============================] - 0s 2ms/step - loss: 0.8149\n",
            "Epoch 120/200\n",
            "6/6 [==============================] - 0s 2ms/step - loss: 0.7067\n",
            "Epoch 121/200\n",
            "6/6 [==============================] - 0s 2ms/step - loss: 0.8247\n",
            "Epoch 122/200\n",
            "6/6 [==============================] - 0s 2ms/step - loss: 0.6735\n",
            "Epoch 123/200\n",
            "6/6 [==============================] - 0s 2ms/step - loss: 0.9789\n",
            "Epoch 124/200\n",
            "6/6 [==============================] - 0s 3ms/step - loss: 0.8093\n",
            "Epoch 125/200\n",
            "6/6 [==============================] - 0s 2ms/step - loss: 0.6879\n",
            "Epoch 126/200\n",
            "6/6 [==============================] - 0s 2ms/step - loss: 0.7949\n",
            "Epoch 127/200\n",
            "6/6 [==============================] - 0s 2ms/step - loss: 0.9723\n",
            "Epoch 128/200\n",
            "6/6 [==============================] - 0s 3ms/step - loss: 1.0094\n",
            "Epoch 129/200\n",
            "6/6 [==============================] - 0s 3ms/step - loss: 0.8590\n",
            "Epoch 130/200\n",
            "6/6 [==============================] - 0s 2ms/step - loss: 0.9421\n",
            "Epoch 131/200\n",
            "6/6 [==============================] - 0s 2ms/step - loss: 0.9561\n",
            "Epoch 132/200\n",
            "6/6 [==============================] - 0s 3ms/step - loss: 0.8012\n",
            "Epoch 133/200\n",
            "6/6 [==============================] - 0s 2ms/step - loss: 0.8598\n",
            "Epoch 134/200\n",
            "6/6 [==============================] - 0s 2ms/step - loss: 0.8822\n",
            "Epoch 135/200\n",
            "6/6 [==============================] - 0s 3ms/step - loss: 0.9052\n",
            "Epoch 136/200\n",
            "6/6 [==============================] - 0s 4ms/step - loss: 0.8318\n",
            "Epoch 137/200\n",
            "6/6 [==============================] - 0s 2ms/step - loss: 0.9019\n",
            "Epoch 138/200\n",
            "6/6 [==============================] - 0s 3ms/step - loss: 0.8123\n",
            "Epoch 139/200\n",
            "6/6 [==============================] - 0s 2ms/step - loss: 0.7357\n",
            "Epoch 140/200\n",
            "6/6 [==============================] - 0s 3ms/step - loss: 0.8596\n",
            "Epoch 141/200\n",
            "6/6 [==============================] - 0s 3ms/step - loss: 0.9333\n",
            "Epoch 142/200\n",
            "6/6 [==============================] - 0s 2ms/step - loss: 0.8755\n",
            "Epoch 143/200\n",
            "6/6 [==============================] - 0s 2ms/step - loss: 1.1431\n",
            "Epoch 144/200\n",
            "6/6 [==============================] - 0s 3ms/step - loss: 0.9509\n",
            "Epoch 145/200\n",
            "6/6 [==============================] - 0s 3ms/step - loss: 0.9345\n",
            "Epoch 146/200\n",
            "6/6 [==============================] - 0s 2ms/step - loss: 1.1753\n",
            "Epoch 147/200\n",
            "6/6 [==============================] - 0s 2ms/step - loss: 0.8362\n",
            "Epoch 148/200\n",
            "6/6 [==============================] - 0s 2ms/step - loss: 0.8591\n",
            "Epoch 149/200\n",
            "6/6 [==============================] - 0s 2ms/step - loss: 1.0165\n",
            "Epoch 150/200\n",
            "6/6 [==============================] - 0s 2ms/step - loss: 0.7912\n",
            "Epoch 151/200\n",
            "6/6 [==============================] - 0s 2ms/step - loss: 0.9131\n",
            "Epoch 152/200\n",
            "6/6 [==============================] - 0s 2ms/step - loss: 0.8016\n",
            "Epoch 153/200\n",
            "6/6 [==============================] - 0s 3ms/step - loss: 1.1805\n",
            "Epoch 154/200\n",
            "6/6 [==============================] - 0s 2ms/step - loss: 0.7528\n",
            "Epoch 155/200\n",
            "6/6 [==============================] - 0s 2ms/step - loss: 0.8590\n",
            "Epoch 156/200\n",
            "6/6 [==============================] - 0s 2ms/step - loss: 0.8835\n",
            "Epoch 157/200\n",
            "6/6 [==============================] - 0s 2ms/step - loss: 0.9175\n",
            "Epoch 158/200\n",
            "6/6 [==============================] - 0s 2ms/step - loss: 0.9141\n",
            "Epoch 159/200\n",
            "6/6 [==============================] - 0s 2ms/step - loss: 0.7903\n",
            "Epoch 160/200\n",
            "6/6 [==============================] - 0s 2ms/step - loss: 0.7618\n",
            "Epoch 161/200\n",
            "6/6 [==============================] - 0s 2ms/step - loss: 0.7528\n",
            "Epoch 162/200\n",
            "6/6 [==============================] - 0s 3ms/step - loss: 1.0410\n",
            "Epoch 163/200\n",
            "6/6 [==============================] - 0s 3ms/step - loss: 0.9995\n",
            "Epoch 164/200\n",
            "6/6 [==============================] - 0s 3ms/step - loss: 0.8732\n",
            "Epoch 165/200\n",
            "6/6 [==============================] - 0s 2ms/step - loss: 0.8095\n",
            "Epoch 166/200\n",
            "6/6 [==============================] - 0s 3ms/step - loss: 0.8403\n",
            "Epoch 167/200\n",
            "6/6 [==============================] - 0s 3ms/step - loss: 1.0399\n",
            "Epoch 168/200\n",
            "6/6 [==============================] - 0s 3ms/step - loss: 0.8625\n",
            "Epoch 169/200\n",
            "6/6 [==============================] - 0s 3ms/step - loss: 0.9533\n",
            "Epoch 170/200\n",
            "6/6 [==============================] - 0s 3ms/step - loss: 0.9318\n",
            "Epoch 171/200\n",
            "6/6 [==============================] - 0s 3ms/step - loss: 0.8482\n",
            "Epoch 172/200\n",
            "6/6 [==============================] - 0s 2ms/step - loss: 0.8445\n",
            "Epoch 173/200\n",
            "6/6 [==============================] - 0s 2ms/step - loss: 0.8354\n",
            "Epoch 174/200\n",
            "6/6 [==============================] - 0s 2ms/step - loss: 0.8624\n",
            "Epoch 175/200\n",
            "6/6 [==============================] - 0s 2ms/step - loss: 0.9012\n",
            "Epoch 176/200\n",
            "6/6 [==============================] - 0s 3ms/step - loss: 0.8113\n",
            "Epoch 177/200\n",
            "6/6 [==============================] - 0s 2ms/step - loss: 1.0363\n",
            "Epoch 178/200\n",
            "6/6 [==============================] - 0s 2ms/step - loss: 0.9103\n",
            "Epoch 179/200\n",
            "6/6 [==============================] - 0s 3ms/step - loss: 0.8294\n",
            "Epoch 180/200\n",
            "6/6 [==============================] - 0s 3ms/step - loss: 0.9190\n",
            "Epoch 181/200\n",
            "6/6 [==============================] - 0s 2ms/step - loss: 0.6861\n",
            "Epoch 182/200\n",
            "6/6 [==============================] - 0s 2ms/step - loss: 0.8366\n",
            "Epoch 183/200\n",
            "6/6 [==============================] - 0s 3ms/step - loss: 0.9976\n",
            "Epoch 184/200\n",
            "6/6 [==============================] - 0s 3ms/step - loss: 0.8202\n",
            "Epoch 185/200\n",
            "6/6 [==============================] - 0s 2ms/step - loss: 0.9105\n",
            "Epoch 186/200\n",
            "6/6 [==============================] - 0s 2ms/step - loss: 0.9069\n",
            "Epoch 187/200\n",
            "6/6 [==============================] - 0s 1ms/step - loss: 1.0877\n",
            "Epoch 188/200\n",
            "6/6 [==============================] - 0s 2ms/step - loss: 0.8692\n",
            "Epoch 189/200\n",
            "6/6 [==============================] - 0s 2ms/step - loss: 0.7663\n",
            "Epoch 190/200\n",
            "6/6 [==============================] - 0s 3ms/step - loss: 0.7761\n",
            "Epoch 191/200\n",
            "6/6 [==============================] - 0s 3ms/step - loss: 0.9264\n",
            "Epoch 192/200\n",
            "6/6 [==============================] - 0s 2ms/step - loss: 0.7828\n",
            "Epoch 193/200\n",
            "6/6 [==============================] - 0s 2ms/step - loss: 0.9303\n",
            "Epoch 194/200\n",
            "6/6 [==============================] - 0s 2ms/step - loss: 0.8440\n",
            "Epoch 195/200\n",
            "6/6 [==============================] - 0s 3ms/step - loss: 0.9438\n",
            "Epoch 196/200\n",
            "6/6 [==============================] - 0s 2ms/step - loss: 0.9498\n",
            "Epoch 197/200\n",
            "6/6 [==============================] - 0s 2ms/step - loss: 0.7618\n",
            "Epoch 198/200\n",
            "6/6 [==============================] - 0s 2ms/step - loss: 1.0404\n",
            "Epoch 199/200\n",
            "6/6 [==============================] - 0s 2ms/step - loss: 0.6955\n",
            "Epoch 200/200\n",
            "6/6 [==============================] - 0s 2ms/step - loss: 0.9400\n"
          ],
          "name": "stdout"
        }
      ]
    },
    {
      "cell_type": "code",
      "metadata": {
        "id": "uIgHp7lCEKcb",
        "colab": {
          "base_uri": "https://localhost:8080/",
          "height": 283
        },
        "outputId": "7ca118bd-e624-45b5-9016-051484a4a40f"
      },
      "source": [
        "# Plot the loss\n",
        "plt.plot(r.history['loss'], label='loss')"
      ],
      "execution_count": null,
      "outputs": [
        {
          "output_type": "execute_result",
          "data": {
            "text/plain": [
              "[<matplotlib.lines.Line2D at 0x7f5cd3eba590>]"
            ]
          },
          "metadata": {
            "tags": []
          },
          "execution_count": 23
        },
        {
          "output_type": "display_data",
          "data": {
            "image/png": "[encoded data removed]",
            "text/plain": [
              "<Figure size 432x288 with 1 Axes>"
            ]
          },
          "metadata": {
            "tags": [],
            "needs_background": "light"
          }
        }
      ]
    },
    {
      "cell_type": "code",
      "metadata": {
        "id": "gsxUvJvAF7nV",
        "colab": {
          "base_uri": "https://localhost:8080/"
        },
        "outputId": "47d93cc8-cdf5-4a33-e0e9-ca98b9281c77"
      },
      "source": [
        "# Get the slope of the line\n",
        "# The slope of the line is related to the doubling rate of transistor count\n",
        "print(model.layers) # Note: there is only 1 layer, the \"Input\" layer doesn't count\n",
        "print(model.layers[0].get_weights())"
      ],
      "execution_count": null,
      "outputs": [
        {
          "output_type": "stream",
          "text": [
            "[<tensorflow.python.keras.layers.core.Dense object at 0x7f5cda2f3fd0>]\n",
            "[array([[0.33472925]], dtype=float32), array([17.776459], dtype=float32)]\n"
          ],
          "name": "stdout"
        }
      ]
    },
    {
      "cell_type": "code",
      "metadata": {
        "id": "hEF-LTNhLCfu"
      },
      "source": [
        "# The slope of the line is:\n",
        "a = model.layers[0].get_weights()[0][0,0]"
      ],
      "execution_count": null,
      "outputs": []
    },
    {
      "cell_type": "markdown",
      "metadata": {
        "id": "5LptW8OvGT7q"
      },
      "source": [
        "Our original model for exponential growth is:\n",
        "\n",
        "$$ C = A_0 r^t $$\n",
        "\n",
        "Where $ C $ is transistor the count and $ t $ is the year.\n",
        "\n",
        "$ r $ is the rate of growth. For example, when $ t $ goes from 1 to 2, $ C $ increases by a factor of $ r $. When $ t $ goes from 2 to 3, $ C $ increases by a factor of $ r $ again.\n",
        "\n",
        "When we take the log of both sides, we get:\n",
        "\n",
        "$$ \\log C = \\log r * t + \\log A_0 $$\n",
        "\n",
        "This is our linear equation:\n",
        "\n",
        "$$ \\hat{y} = ax + b $$\n",
        "\n",
        "Where:\n",
        "\n",
        "$$ \\hat{y} = \\log C $$\n",
        "$$ a = \\log r $$\n",
        "$$ x = t $$\n",
        "$$ b = \\log A_0 $$\n",
        "\n",
        "We are interested in $ r $, because that's the rate of growth. Given our regression weights, we know that:\n",
        "\n",
        "$$ a = 0.34188038 $$\n",
        "\n",
        "so that:\n",
        "\n",
        "$$ r = e^{0.34188038} = 1.4076 $$\n",
        "\n",
        "To find the time it takes for transistor count to double, we simply need to find the amount of time it takes for $ C $ to increase to $ 2C $.\n",
        "\n",
        "Let's call the original starting time $ t $, to correspond with the initial transistor count $ C $.\n",
        "\n",
        "Let's call the end time $ t' $, to correspond with the final transistor count $ 2C $.\n",
        "\n",
        "Then we also have:\n",
        "\n",
        "$$ 2C = A_0 r ^ {t'} $$\n",
        "\n",
        "Combine this with our original equation:\n",
        "\n",
        "$$ C = A_0 r^t $$\n",
        "\n",
        "We get (by dividing the 2 equations):\n",
        "\n",
        "$$ 2C/C = (A_0 r ^ {t'}) / A_0 r^t $$\n",
        "\n",
        "Which simplifies to:\n",
        "\n",
        "$$ 2 = r^{(t' - t)} $$\n",
        "\n",
        "Solve for $ t' - t $:\n",
        "\n",
        "$$ t' - t = \\frac{\\log 2}{\\log r} = \\frac{\\log2}{a}$$\n",
        "\n",
        "\n",
        "Important note! We haven't specified what the starting time $ t $ actually is, and we don't have to since we just proved that this holds for any $ t $."
      ]
    },
    {
      "cell_type": "code",
      "metadata": {
        "id": "9hmqGOfuK36y",
        "colab": {
          "base_uri": "https://localhost:8080/"
        },
        "outputId": "b4bc0d30-3218-44b2-92e0-fa841550a15f"
      },
      "source": [
        "print(\"Time to double:\", np.log(2) / a)"
      ],
      "execution_count": null,
      "outputs": [
        {
          "output_type": "stream",
          "text": [
            "Time to double: 2.07076964970333\n"
          ],
          "name": "stdout"
        }
      ]
    },
    {
      "cell_type": "code",
      "metadata": {
        "id": "_8j_jNQQLjzM",
        "colab": {
          "base_uri": "https://localhost:8080/"
        },
        "outputId": "d95b3983-0e66-44bf-ab08-f5be3400ee6a"
      },
      "source": [
        "# If you know the analytical solution\n",
        "X = np.array(X).flatten()\n",
        "Y = np.array(Y)\n",
        "denominator = X.dot(X) - X.mean() * X.sum()\n",
        "a = ( X.dot(Y) - Y.mean()*X.sum() ) / denominator\n",
        "b = ( Y.mean() * X.dot(X) - X.mean() * X.dot(Y) ) / denominator\n",
        "print(a, b)\n",
        "print(\"Time to double:\", np.log(2) / a)"
      ],
      "execution_count": null,
      "outputs": [
        {
          "output_type": "stream",
          "text": [
            "0.341682487387313 17.764939393631764\n",
            "Time to double: 2.0286295205239204\n"
          ],
          "name": "stdout"
        }
      ]
    },
    {
      "cell_type": "code",
      "metadata": {
        "colab": {
          "base_uri": "https://localhost:8080/"
        },
        "id": "SMK3KcVc3w-V",
        "outputId": "ed74f19a-bad5-41f4-ce8c-aa0076e9acd2"
      },
      "source": [
        "X = np.array(X).flatten()\n",
        "X.shape"
      ],
      "execution_count": null,
      "outputs": [
        {
          "output_type": "execute_result",
          "data": {
            "text/plain": [
              "(162,)"
            ]
          },
          "metadata": {
            "tags": []
          },
          "execution_count": 28
        }
      ]
    },
    {
      "cell_type": "code",
      "metadata": {
        "colab": {
          "base_uri": "https://localhost:8080/"
        },
        "id": "4gOefRXYPI-J",
        "outputId": "6544c5f2-72da-4e36-ced1-d363611b3d2d"
      },
      "source": [
        "Y = np.array(Y)\n",
        "Y.shape"
      ],
      "execution_count": null,
      "outputs": [
        {
          "output_type": "execute_result",
          "data": {
            "text/plain": [
              "(162,)"
            ]
          },
          "metadata": {
            "tags": []
          },
          "execution_count": 29
        }
      ]
    },
    {
      "cell_type": "code",
      "metadata": {
        "colab": {
          "base_uri": "https://localhost:8080/"
        },
        "id": "Qrxv_ufBPOXc",
        "outputId": "0b32f318-f0fc-40ee-a350-aca8976e4a05"
      },
      "source": [
        "Y[:5]"
      ],
      "execution_count": null,
      "outputs": [
        {
          "output_type": "execute_result",
          "data": {
            "text/plain": [
              "array([7.7406644 , 8.16051825, 7.82404601, 7.82404601, 8.31874225])"
            ]
          },
          "metadata": {
            "tags": []
          },
          "execution_count": 30
        }
      ]
    },
    {
      "cell_type": "markdown",
      "metadata": {
        "id": "KUl6gdjYUUOX"
      },
      "source": [
        "# Part 2: Making Predictions\n",
        "\n",
        "This goes with the lecture \"Making Predictions\""
      ]
    },
    {
      "cell_type": "code",
      "metadata": {
        "id": "vgDaWaNsURIX",
        "colab": {
          "base_uri": "https://localhost:8080/",
          "height": 283
        },
        "outputId": "3e347d0a-5133-41d9-b323-09db5629ce68"
      },
      "source": [
        "# Make sure the line fits our data\n",
        "Yhat = model.predict(X).flatten()\n",
        "plt.scatter(X, Y)\n",
        "plt.plot(X, Yhat)\n",
        "print(Yhat.shape)"
      ],
      "execution_count": null,
      "outputs": [
        {
          "output_type": "stream",
          "text": [
            "(162,)\n"
          ],
          "name": "stdout"
        },
        {
          "output_type": "display_data",
          "data": {
            "image/png": "[encoded data removed]",
            "text/plain": [
              "<Figure size 432x288 with 1 Axes>"
            ]
          },
          "metadata": {
            "tags": [],
            "needs_background": "light"
          }
        }
      ]
    },
    {
      "cell_type": "code",
      "metadata": {
        "colab": {
          "base_uri": "https://localhost:8080/"
        },
        "id": "pw5X4a09O3n-",
        "outputId": "d6e42026-f9a4-4139-efe9-ef3e234de249"
      },
      "source": [
        "Yhat_ = model.predict(X)\n",
        "Yhat_.shape\n",
        "#print(Yhat_)\n",
        "print(np.mean(Yhat_))"
      ],
      "execution_count": null,
      "outputs": [
        {
          "output_type": "stream",
          "text": [
            "17.776459\n"
          ],
          "name": "stdout"
        }
      ]
    },
    {
      "cell_type": "code",
      "metadata": {
        "id": "PRdHtM6yaPo2",
        "colab": {
          "base_uri": "https://localhost:8080/"
        },
        "outputId": "66761523-21ec-4baf-9988-4a99f2d98d37"
      },
      "source": [
        "# Manual calculation\n",
        "\n",
        "# Get the weights\n",
        "w, b = model.layers[0].get_weights()\n",
        "print(w,b)\n",
        "\n",
        "# Reshape X because we flattened it again earlier\n",
        "X = X.reshape(-1, 1)\n",
        "print(X.shape)\n",
        "\n",
        "# (N x 1) x (1 x 1) + (1) --> (N x 1)\n",
        "Yhat2 = (X.dot(w) + b).flatten()\n",
        "print(np.mean(Yhat2))\n",
        "print(f' y hat  = \\n {Yhat2}')\n",
        "\n",
        "\n",
        "# Don't use == for floating points\n",
        "np.allclose(Yhat, Yhat2)"
      ],
      "execution_count": null,
      "outputs": [
        {
          "output_type": "stream",
          "text": [
            "[[0.33472925]] [17.776459]\n",
            "(162, 1)\n",
            "17.776458740234396\n",
            " y hat  = \n",
            " [ 7.3337325   7.66846175  8.00319101  8.00319101  8.33792026  8.33792026\n",
            "  8.33792026  8.67264952  9.00737877  9.00737877  9.00737877  9.67683728\n",
            "  9.67683728 10.01156653 10.01156653 10.01156653 10.68102504 11.0157543\n",
            " 11.0157543  11.35048355 11.6852128  11.6852128  12.01994206 12.01994206\n",
            " 12.01994206 12.35467131 12.35467131 12.35467131 12.68940057 12.68940057\n",
            " 12.68940057 12.68940057 13.02412982 13.02412982 13.35885908 13.35885908\n",
            " 13.35885908 13.35885908 13.69358833 14.02831758 14.02831758 14.36304684\n",
            " 14.36304684 14.69777609 14.69777609 15.03250535 15.03250535 15.3672346\n",
            " 16.70615162 15.3672346  15.70196386 16.03669311 16.03669311 16.03669311\n",
            " 16.37142236 16.70615162 16.70615162 17.04088087 17.04088087 16.70615162\n",
            " 16.70615162 16.70615162 17.04088087 17.37561013 17.37561013 17.71033938\n",
            " 18.37979789 18.37979789 18.71452714 19.0492564  18.71452714 19.0492564\n",
            " 19.38398565 19.71871491 18.04506864 18.04506864 17.71033938 18.71452714\n",
            " 18.71452714 19.0492564  19.38398565 18.04506864 19.71871491 20.05344416\n",
            " 20.72290267 21.05763192 19.38398565 19.38398565 19.71871491 18.37979789\n",
            " 19.38398565 19.71871491 19.71871491 19.38398565 20.05344416 20.38817342\n",
            " 21.05763192 21.39236118 20.72290267 20.38817342 20.38817342 21.05763192\n",
            " 21.05763192 20.38817342 21.05763192 21.72709043 19.0492564  22.06181969\n",
            " 21.39236118 22.06181969 19.71871491 20.38817342 21.72709043 22.06181969\n",
            " 22.06181969 21.05763192 20.72290267 20.38817342 21.72709043 20.72290267\n",
            " 21.05763192 21.72709043 22.39654894 22.7312782  22.7312782  23.06600745\n",
            " 21.05763192 22.39654894 22.39654894 22.06181969 21.39236118 22.7312782\n",
            " 21.72709043 22.7312782  22.7312782  22.7312782  21.05763192 21.39236118\n",
            " 21.72709043 22.7312782  23.06600745 22.39654894 23.06600745 22.7312782\n",
            " 23.06600745 22.7312782  22.06181969 22.7312782  22.39654894 22.7312782\n",
            " 22.39654894 22.7312782  22.7312782  22.06181969 22.7312782  23.06600745\n",
            " 22.7312782  22.7312782  22.7312782  23.06600745 23.06600745 23.06600745]\n"
          ],
          "name": "stdout"
        },
        {
          "output_type": "execute_result",
          "data": {
            "text/plain": [
              "True"
            ]
          },
          "metadata": {
            "tags": []
          },
          "execution_count": 48
        }
      ]
    },
    {
      "cell_type": "code",
      "metadata": {
        "id": "gEVkWDWQQ0eO"
      },
      "source": [
        ""
      ],
      "execution_count": null,
      "outputs": []
    }
  ]
}